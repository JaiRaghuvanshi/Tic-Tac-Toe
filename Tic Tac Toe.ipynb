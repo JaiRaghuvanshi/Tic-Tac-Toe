{
 "cells": [
  {
   "cell_type": "markdown",
   "metadata": {},
   "source": [
    "# Tic Tac Toe code"
   ]
  },
  {
   "cell_type": "markdown",
   "metadata": {},
   "source": [
    "First, I make a list to include all X and O values."
   ]
  },
  {
   "cell_type": "code",
   "execution_count": 1,
   "metadata": {},
   "outputs": [],
   "source": [
    "l = [' 'for x in range(9)]"
   ]
  },
  {
   "cell_type": "markdown",
   "metadata": {},
   "source": [
    "Then, I set up the board to be displayed while playing"
   ]
  },
  {
   "cell_type": "code",
   "execution_count": 2,
   "metadata": {},
   "outputs": [],
   "source": [
    "from IPython.display import clear_output\n",
    "def board():\n",
    "    clear_output()\n",
    "    print(l[0],'|',l[1],'|',l[2])\n",
    "    print('-','+','-','+','-')\n",
    "    print(l[3],'|',l[4],'|',l[5])\n",
    "    print('-','+','-','+','-')\n",
    "    print(l[6],'|',l[7],'|',l[8])"
   ]
  },
  {
   "cell_type": "markdown",
   "metadata": {},
   "source": [
    "By importing clear_output from IPython.display, I make sure there is not a board per move."
   ]
  },
  {
   "cell_type": "markdown",
   "metadata": {},
   "source": [
    "Then, I define the input for both X and O"
   ]
  },
  {
   "cell_type": "code",
   "execution_count": 5,
   "metadata": {},
   "outputs": [],
   "source": [
    "def move_X():\n",
    "    print ('Player 1 make your move')\n",
    "    index = int(input())-1\n",
    "    if l[index]=='X':\n",
    "        print ('You have already played this move!, Try again')\n",
    "        move_X()\n",
    "    elif l[index]=='O':\n",
    "        print ('Invalid move, Try again')\n",
    "        move_X()\n",
    "    else:\n",
    "        l[index]='X'"
   ]
  },
  {
   "cell_type": "code",
   "execution_count": 6,
   "metadata": {},
   "outputs": [],
   "source": [
    "def move_O():\n",
    "    print ('Player 2 make your move')\n",
    "    index = int(input())-1\n",
    "    if l[index]=='O':\n",
    "        print ('You have already played this move!, Try again')\n",
    "        move_O()\n",
    "    elif l[index]=='X':\n",
    "        print ('Invalid move, Try again')\n",
    "        move_O()\n",
    "    else:\n",
    "        l[index]='O'"
   ]
  },
  {
   "cell_type": "markdown",
   "metadata": {},
   "source": [
    "I decreased the input by 1 to match the index of the list i created so that anyone who does not know about indexing or python in general can also play."
   ]
  },
  {
   "cell_type": "markdown",
   "metadata": {},
   "source": [
    "Then, I assign the conditions for win for X and O seperately as I felt uncomfortable making 1 that works for both."
   ]
  },
  {
   "cell_type": "code",
   "execution_count": 7,
   "metadata": {},
   "outputs": [],
   "source": [
    "def win_X():\n",
    "    if l[0]=='X'and l[1]=='X' and l[2]=='X':\n",
    "        return True\n",
    "    elif l[3]=='X'and l[4]=='X' and l[5]=='X':\n",
    "        return True\n",
    "    elif l[6]=='X'and l[7]=='X' and l[8]=='X':\n",
    "        return True\n",
    "    elif l[0]=='X'and l[3]=='X' and l[6]=='X':\n",
    "        return True\n",
    "    elif l[1]=='X'and l[4]=='X' and l[7]=='X':\n",
    "        return True\n",
    "    elif l[2]=='X'and l[5]=='X' and l[8]=='X':\n",
    "        return True\n",
    "    elif l[0]=='X'and l[4]=='X' and l[8]=='X':\n",
    "        return True\n",
    "    elif l[2]=='X'and l[4]=='X' and l[6]=='X':\n",
    "        return True"
   ]
  },
  {
   "cell_type": "code",
   "execution_count": 8,
   "metadata": {},
   "outputs": [],
   "source": [
    "def win_O():\n",
    "    if l[0]=='O'and l[1]=='O' and l[2]=='O':\n",
    "        return True\n",
    "    elif l[3]=='O'and l[4]=='O' and l[5]=='O':\n",
    "        return True\n",
    "    elif l[6]=='O'and l[7]=='O' and l[8]=='O':\n",
    "        return True\n",
    "    elif l[0]=='O'and l[3]=='O' and l[6]=='O':\n",
    "        return True\n",
    "    elif l[1]=='O'and l[4]=='O' and l[7]=='O':\n",
    "        return True\n",
    "    elif l[2]=='O'and l[5]=='O' and l[8]=='O':\n",
    "        return True\n",
    "    elif l[0]=='O'and l[4]=='O' and l[8]=='O':\n",
    "        return True\n",
    "    elif l[2]=='O'and l[4]=='O' and l[6]=='O':\n",
    "        return True"
   ]
  },
  {
   "cell_type": "markdown",
   "metadata": {},
   "source": [
    "Then, I assigned a functions that calculates draw outcomes."
   ]
  },
  {
   "cell_type": "code",
   "execution_count": 9,
   "metadata": {},
   "outputs": [],
   "source": [
    "def draw():\n",
    "    for i in range(9):\n",
    "        if l[i]==' ':\n",
    "            return False\n",
    "    return True"
   ]
  },
  {
   "cell_type": "markdown",
   "metadata": {},
   "source": [
    "I also assigned a code for replay to make replaying easier."
   ]
  },
  {
   "cell_type": "code",
   "execution_count": 10,
   "metadata": {},
   "outputs": [],
   "source": [
    "def replay():\n",
    "    \n",
    "    return input('Do you want to play again? Enter Yes or No: ').lower().startswith('y')"
   ]
  },
  {
   "cell_type": "markdown",
   "metadata": {},
   "source": [
    "At last, using all the functions I made, I assembled the final product."
   ]
  },
  {
   "cell_type": "code",
   "execution_count": 12,
   "metadata": {},
   "outputs": [
    {
     "name": "stdout",
     "output_type": "stream",
     "text": [
      "X | X | O\n",
      "- + - + -\n",
      "O | O | X\n",
      "- + - + -\n",
      "X | O | X\n",
      "draw\n",
      "Do you want to play again? Enter Yes or No: n\n"
     ]
    }
   ],
   "source": [
    "while True:\n",
    "    game=True\n",
    "    l = [' 'for x in range(9)]\n",
    "    while game:\n",
    "        board()\n",
    "        move_X()\n",
    "        board()\n",
    "        if win_X():\n",
    "            print ('X, you won')\n",
    "            game=False\n",
    "            break\n",
    "        else:\n",
    "            if draw():\n",
    "                board()\n",
    "                print('draw')\n",
    "                break\n",
    "            \n",
    "        move_O()\n",
    "        board()\n",
    "        if win_O():\n",
    "            print ('O, you won')\n",
    "            game=False\n",
    "            break\n",
    "        else:\n",
    "            if draw():\n",
    "                board()\n",
    "                print('draw')\n",
    "                break\n",
    "            else:\n",
    "                continue\n",
    "    if not replay():\n",
    "        break"
   ]
  },
  {
   "cell_type": "code",
   "execution_count": null,
   "metadata": {},
   "outputs": [],
   "source": []
  }
 ],
 "metadata": {
  "kernelspec": {
   "display_name": "Python 3",
   "language": "python",
   "name": "python3"
  },
  "language_info": {
   "codemirror_mode": {
    "name": "ipython",
    "version": 3
   },
   "file_extension": ".py",
   "mimetype": "text/x-python",
   "name": "python",
   "nbconvert_exporter": "python",
   "pygments_lexer": "ipython3",
   "version": "3.7.6"
  }
 },
 "nbformat": 4,
 "nbformat_minor": 4
}
